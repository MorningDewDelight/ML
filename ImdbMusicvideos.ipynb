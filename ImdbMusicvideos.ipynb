{
 "cells": [
  {
   "cell_type": "markdown",
   "id": "1822c62f",
   "metadata": {},
   "source": [
    "## Getting Top rated Music videos from IMDB Website by Web scraping using Python"
   ]
  },
  {
   "cell_type": "code",
   "execution_count": 2,
   "id": "cd8e67ad",
   "metadata": {},
   "outputs": [],
   "source": [
    "import requests\n",
    "from bs4 import BeautifulSoup\n",
    "import pandas as pd"
   ]
  },
  {
   "cell_type": "code",
   "execution_count": 3,
   "id": "49be2a48",
   "metadata": {},
   "outputs": [],
   "source": [
    "source = requests.get(\"https://www.imdb.com/search/title/?title_type=music_video\")\n",
    "source.raise_for_status()\n",
    "soup = BeautifulSoup(source.text, \"html.parser\")\n",
    "mvideos = soup.find(\"div\", class_=\"lister-list\").find_all(\"div\",class_=\"lister-item mode-advanced\")\n"
   ]
  },
  {
   "cell_type": "code",
   "execution_count": 4,
   "id": "36ec3bfd",
   "metadata": {},
   "outputs": [],
   "source": [
    "name = []\n",
    "rank = []\n",
    "year = []\n",
    "runtime= []\n",
    "rating=[]\n",
    "for video in mvideos:\n",
    "    n = video.find(\"div\", class_=\"lister-item-content\").a.text\n",
    "    name.append(n)\n",
    "    rk = video.find('div', class_=\"lister-item-content\").span.text.strip('.')\n",
    "    rank.append(rk)\n",
    "    y = video.find('span', class_=\"lister-item-year text-muted unbold\").text.strip('()').split(' ')[0]\n",
    "    year.append(y)\n",
    "    rt = video.p.get_text(strip=True).split(\"|\")[0]\n",
    "    runtime.append(rt)\n",
    "    rg = video.find('div', class_=\"ratings-bar\").strong\n",
    "    rating.append(rg)\n",
    "    \n",
    "    "
   ]
  },
  {
   "cell_type": "code",
   "execution_count": 5,
   "id": "19f7553a",
   "metadata": {},
   "outputs": [
    {
     "data": {
      "text/html": [
       "<div>\n",
       "<style scoped>\n",
       "    .dataframe tbody tr th:only-of-type {\n",
       "        vertical-align: middle;\n",
       "    }\n",
       "\n",
       "    .dataframe tbody tr th {\n",
       "        vertical-align: top;\n",
       "    }\n",
       "\n",
       "    .dataframe thead th {\n",
       "        text-align: right;\n",
       "    }\n",
       "</style>\n",
       "<table border=\"1\" class=\"dataframe\">\n",
       "  <thead>\n",
       "    <tr style=\"text-align: right;\">\n",
       "      <th></th>\n",
       "      <th>Rank</th>\n",
       "      <th>Music_Video</th>\n",
       "      <th>Year_Of_Release</th>\n",
       "      <th>Duration</th>\n",
       "      <th>IMDB_Rating</th>\n",
       "    </tr>\n",
       "  </thead>\n",
       "  <tbody>\n",
       "    <tr>\n",
       "      <th>0</th>\n",
       "      <td>1</td>\n",
       "      <td>Taylor Swift: Bad Blood</td>\n",
       "      <td>2015</td>\n",
       "      <td>Not Rated</td>\n",
       "      <td>[7.3]</td>\n",
       "    </tr>\n",
       "    <tr>\n",
       "      <th>1</th>\n",
       "      <td>2</td>\n",
       "      <td>Fergie: M.I.L.F. $</td>\n",
       "      <td>2016</td>\n",
       "      <td>4 min</td>\n",
       "      <td>[5.2]</td>\n",
       "    </tr>\n",
       "    <tr>\n",
       "      <th>2</th>\n",
       "      <td>3</td>\n",
       "      <td>Michael Jackson: Thriller</td>\n",
       "      <td>1983</td>\n",
       "      <td>PG</td>\n",
       "      <td>[8.7]</td>\n",
       "    </tr>\n",
       "    <tr>\n",
       "      <th>3</th>\n",
       "      <td>4</td>\n",
       "      <td>Miles Teller: Great Balls of Fire</td>\n",
       "      <td>2022</td>\n",
       "      <td>2 min</td>\n",
       "      <td>[8.3]</td>\n",
       "    </tr>\n",
       "    <tr>\n",
       "      <th>4</th>\n",
       "      <td>5</td>\n",
       "      <td>Rita Ora: You Only Love Me</td>\n",
       "      <td>2023</td>\n",
       "      <td>3 min</td>\n",
       "      <td>[6.4]</td>\n",
       "    </tr>\n",
       "  </tbody>\n",
       "</table>\n",
       "</div>"
      ],
      "text/plain": [
       "  Rank                        Music_Video Year_Of_Release   Duration  \\\n",
       "0    1            Taylor Swift: Bad Blood            2015  Not Rated   \n",
       "1    2                 Fergie: M.I.L.F. $            2016      4 min   \n",
       "2    3          Michael Jackson: Thriller            1983         PG   \n",
       "3    4  Miles Teller: Great Balls of Fire            2022      2 min   \n",
       "4    5         Rita Ora: You Only Love Me            2023      3 min   \n",
       "\n",
       "  IMDB_Rating  \n",
       "0       [7.3]  \n",
       "1       [5.2]  \n",
       "2       [8.7]  \n",
       "3       [8.3]  \n",
       "4       [6.4]  "
      ]
     },
     "execution_count": 5,
     "metadata": {},
     "output_type": "execute_result"
    }
   ],
   "source": [
    "videosdf = pd.DataFrame({\"Rank\": rank, \n",
    "                         \"Music_Video\": name, \n",
    "                         \"Year_Of_Release\": year, \n",
    "                         \"Duration\": runtime, \n",
    "                         \"IMDB_Rating\":rating})\n",
    "videosdf.head()"
   ]
  },
  {
   "cell_type": "code",
   "execution_count": 6,
   "id": "31872bba",
   "metadata": {},
   "outputs": [],
   "source": [
    "# videosdf.to_csv('Music_videos_from_IMDB.csv', index=None)"
   ]
  },
  {
   "cell_type": "code",
   "execution_count": null,
   "id": "f8bab27f",
   "metadata": {},
   "outputs": [],
   "source": []
  }
 ],
 "metadata": {
  "kernelspec": {
   "display_name": "Python 3 (ipykernel)",
   "language": "python",
   "name": "python3"
  },
  "language_info": {
   "codemirror_mode": {
    "name": "ipython",
    "version": 3
   },
   "file_extension": ".py",
   "mimetype": "text/x-python",
   "name": "python",
   "nbconvert_exporter": "python",
   "pygments_lexer": "ipython3",
   "version": "3.8.10"
  }
 },
 "nbformat": 4,
 "nbformat_minor": 5
}
